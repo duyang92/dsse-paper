{
 "cells": [
  {
   "cell_type": "code",
   "execution_count": null,
   "id": "initial_id",
   "metadata": {
    "ExecuteTime": {
     "end_time": "2025-01-02T02:33:09.496605Z",
     "start_time": "2025-01-02T02:27:46.192353Z"
    },
    "collapsed": true
   },
   "outputs": [],
   "source": [
    "import re\n",
    "import csv\n",
    "#read csv\n",
    "#https://www.kaggle.com/datasets/hernan4444/anime-recommendation-database-2020?select=animelist.csv\n",
    "dataset=open(\"animelist.csv\",'r',encoding=\"utf-8\")\n",
    "csv_dict=csv.DictReader(dataset)\n",
    "processed=open(\"processed_recommendation_dataset.txt\",'w')\n",
    "user_anime={}\n",
    "for line in csv_dict:\n",
    "    user=line[\"user_id\"]\n",
    "    anime=line[\"anime_id\"]\n",
    "    user_anime[user]=user_anime.get(user,[])+[anime]\n",
    "for user in user_anime:\n",
    "    processed.write(\" \".join(user_anime[user])+\"\\n\")\n",
    "processed.close()\n"
   ]
  }
 ],
 "metadata": {
  "kernelspec": {
   "display_name": "Python 3",
   "language": "python",
   "name": "python3"
  },
  "language_info": {
   "codemirror_mode": {
    "name": "ipython",
    "version": 2
   },
   "file_extension": ".py",
   "mimetype": "text/x-python",
   "name": "python",
   "nbconvert_exporter": "python",
   "pygments_lexer": "ipython2",
   "version": "2.7.6"
  }
 },
 "nbformat": 4,
 "nbformat_minor": 5
}
