{
 "cells": [
  {
   "cell_type": "code",
   "execution_count": null,
   "id": "initial_id",
   "metadata": {
    "ExecuteTime": {
     "end_time": "2024-12-16T12:26:43.822636Z",
     "start_time": "2024-12-16T12:23:22.956636Z"
    },
    "collapsed": true
   },
   "outputs": [],
   "source": [
    "import re\n",
    "import csv\n",
    "#read csv\n",
    "#https://www.kaggle.com/datasets/shanegerami/ai-vs-human-text\n",
    "dataset=open(\"AI_Human.csv\",'r',encoding=\"utf-8\")\n",
    "csv_dict=csv.DictReader(dataset)\n",
    "processed=open(\"processed_text_dataset.txt\",'w')\n",
    "for line in csv_dict:\n",
    "    text=line[\"text\"]\n",
    "    processed_words=[]\n",
    "    all_words=text.split(\" \")\n",
    "    for word in all_words:\n",
    "        # remove commas, full stops, etc.\n",
    "        word=word.lower()\n",
    "        word=re.sub(r\"[^a-z]\",\"\",word)\n",
    "        if len(word)>0:\n",
    "            processed_words.append(word)\n",
    "    processed.write(\" \".join(processed_words)+\"\\n\")\n",
    "processed.close()\n"
   ]
  }
 ],
 "metadata": {
  "kernelspec": {
   "display_name": "Python 3",
   "language": "python",
   "name": "python3"
  },
  "language_info": {
   "codemirror_mode": {
    "name": "ipython",
    "version": 2
   },
   "file_extension": ".py",
   "mimetype": "text/x-python",
   "name": "python",
   "nbconvert_exporter": "python",
   "pygments_lexer": "ipython2",
   "version": "2.7.6"
  }
 },
 "nbformat": 4,
 "nbformat_minor": 5
}
